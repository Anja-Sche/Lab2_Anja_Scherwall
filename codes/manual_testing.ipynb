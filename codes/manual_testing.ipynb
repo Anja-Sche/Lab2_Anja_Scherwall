{
 "cells": [
  {
   "cell_type": "markdown",
   "id": "fa97424d",
   "metadata": {},
   "source": [
    "# Manual testing\n",
    "(started testing in the begining but had the file in .gitignore)"
   ]
  },
  {
   "cell_type": "markdown",
   "id": "8b4a5bfb",
   "metadata": {},
   "source": [
    "## Testing circle"
   ]
  },
  {
   "cell_type": "code",
   "execution_count": 24,
   "id": "02fdd9ef",
   "metadata": {},
   "outputs": [
    {
     "name": "stdout",
     "output_type": "stream",
     "text": [
      "False\n",
      "True\n"
     ]
    }
   ],
   "source": [
    "from circle import Circle\n",
    "\n",
    "circle1 = Circle(1,1,1)\n",
    "print(circle1.unit_circle())\n",
    "\n",
    "circle2 = Circle(0,0,1)\n",
    "print(circle2.unit_circle())"
   ]
  },
  {
   "cell_type": "code",
   "execution_count": 25,
   "id": "fadeb581",
   "metadata": {},
   "outputs": [
    {
     "name": "stdout",
     "output_type": "stream",
     "text": [
      "(1,1) represents the centerposition. The circles radius is 1\n",
      "(3, 3)\n"
     ]
    },
    {
     "data": {
      "text/plain": [
       "(3, 3)"
      ]
     },
     "execution_count": 25,
     "metadata": {},
     "output_type": "execute_result"
    }
   ],
   "source": [
    "print(circle1)\n",
    "print(circle1.translate(2,2))\n",
    "circle1.x, circle1.y"
   ]
  },
  {
   "cell_type": "code",
   "execution_count": 26,
   "id": "1f255e84",
   "metadata": {},
   "outputs": [
    {
     "data": {
      "text/plain": [
       "Circle(x=0, y=0, radius=3)"
      ]
     },
     "execution_count": 26,
     "metadata": {},
     "output_type": "execute_result"
    }
   ],
   "source": [
    "# testing the default values for x and y\n",
    "circle3= Circle(radius=3)\n",
    "circle3"
   ]
  },
  {
   "cell_type": "code",
   "execution_count": 27,
   "id": "58022843",
   "metadata": {},
   "outputs": [
    {
     "name": "stdout",
     "output_type": "stream",
     "text": [
      "Value must be a number, not <class 'str'>\n",
      "Value must be a number, not <class 'bool'>\n"
     ]
    }
   ],
   "source": [
    "try:\n",
    "    circle2.radius = \"tre\"\n",
    "except TypeError as err:\n",
    "    print(err)\n",
    "\n",
    "try:\n",
    "    circle3 = Circle(1,1,False)\n",
    "except TypeError as err:\n",
    "    print(err)"
   ]
  },
  {
   "cell_type": "code",
   "execution_count": 28,
   "id": "1deb627a",
   "metadata": {},
   "outputs": [
    {
     "name": "stdout",
     "output_type": "stream",
     "text": [
      "Value must be lager than 0\n"
     ]
    }
   ],
   "source": [
    "try:\n",
    "    circle3 = Circle(1,1,-2)\n",
    "except ValueError as err:\n",
    "    print(err)"
   ]
  },
  {
   "cell_type": "code",
   "execution_count": 29,
   "id": "5fd4e1ac",
   "metadata": {},
   "outputs": [
    {
     "name": "stdout",
     "output_type": "stream",
     "text": [
      "(3,3) represents the centerposition. The circles radius is 1\n"
     ]
    },
    {
     "data": {
      "text/plain": [
       "Circle(x=3, y=3, radius=1)"
      ]
     },
     "execution_count": 29,
     "metadata": {},
     "output_type": "execute_result"
    }
   ],
   "source": [
    "# testing __repr__ and __str__\n",
    "print(circle1)\n",
    "circle1"
   ]
  },
  {
   "cell_type": "markdown",
   "id": "ae1f65cf",
   "metadata": {},
   "source": [
    "## Testing rectangle"
   ]
  },
  {
   "cell_type": "code",
   "execution_count": 30,
   "id": "2db8fd61",
   "metadata": {},
   "outputs": [
    {
     "name": "stdout",
     "output_type": "stream",
     "text": [
      "1\n",
      "6\n",
      "10\n",
      "This is a rectangle, not a square\n"
     ]
    }
   ],
   "source": [
    "from rectangle import Rectangle\n",
    "\n",
    "rectangle1 = Rectangle(1,1,3,2)\n",
    "print(rectangle1.y)\n",
    "print(rectangle1.area)\n",
    "print(rectangle1.perimeter)\n",
    "rectangle1.square()"
   ]
  },
  {
   "cell_type": "code",
   "execution_count": 31,
   "id": "d2948f66",
   "metadata": {},
   "outputs": [
    {
     "name": "stdout",
     "output_type": "stream",
     "text": [
      "1 1\n",
      "(3, 3)\n"
     ]
    },
    {
     "data": {
      "text/plain": [
       "(3, 3)"
      ]
     },
     "execution_count": 31,
     "metadata": {},
     "output_type": "execute_result"
    }
   ],
   "source": [
    "print(rectangle1.x, rectangle1.y)\n",
    "print(rectangle1.translate(2,2))\n",
    "rectangle1.x, rectangle1.y"
   ]
  },
  {
   "cell_type": "code",
   "execution_count": 32,
   "id": "1d219670",
   "metadata": {},
   "outputs": [
    {
     "name": "stdout",
     "output_type": "stream",
     "text": [
      "(0,0) represents the centerposition. The rectangles width is 3, the hight is 5\n"
     ]
    },
    {
     "data": {
      "text/plain": [
       "Rectangle(x=0, y=0, width=3, height=5)"
      ]
     },
     "execution_count": 32,
     "metadata": {},
     "output_type": "execute_result"
    }
   ],
   "source": [
    "# testing default values of x and y\n",
    "# testing __repr__ and __str__\n",
    "rectangle2= Rectangle(width=3, height=5)\n",
    "print(rectangle2)\n",
    "rectangle2"
   ]
  },
  {
   "cell_type": "code",
   "execution_count": 33,
   "id": "53a289d0",
   "metadata": {},
   "outputs": [
    {
     "name": "stdout",
     "output_type": "stream",
     "text": [
      "Value must be a number, not <class 'str'>\n",
      "Value must be a number, not <class 'bool'>\n"
     ]
    }
   ],
   "source": [
    "try:\n",
    "    rectangle2.width = \"tre\"\n",
    "except TypeError as err:\n",
    "    print(err)\n",
    "\n",
    "try:\n",
    "    rectangle3 = Rectangle(1,1,False,4)\n",
    "except TypeError as err:\n",
    "    print(err)"
   ]
  },
  {
   "cell_type": "code",
   "execution_count": 34,
   "id": "5d371175",
   "metadata": {},
   "outputs": [
    {
     "name": "stdout",
     "output_type": "stream",
     "text": [
      "Value must be lager than 0\n"
     ]
    }
   ],
   "source": [
    "try:\n",
    "    rectangle3 = Rectangle(1,1,-3,4)\n",
    "except ValueError as err:\n",
    "    print(err)"
   ]
  },
  {
   "cell_type": "markdown",
   "id": "761107a4",
   "metadata": {},
   "source": [
    "## Testing comparison"
   ]
  },
  {
   "cell_type": "markdown",
   "id": "3bcfb4ac",
   "metadata": {},
   "source": [
    "### Rectangles"
   ]
  },
  {
   "cell_type": "code",
   "execution_count": 35,
   "id": "7d3a67db",
   "metadata": {},
   "outputs": [],
   "source": [
    "rectangle3 = Rectangle(1,1,3,4)\n",
    "rectangle4 = Rectangle(1,1,2,5)\n",
    "rectangle5 = Rectangle(1,3,5,2)"
   ]
  },
  {
   "cell_type": "code",
   "execution_count": 37,
   "id": "b5cdc20b",
   "metadata": {},
   "outputs": [
    {
     "name": "stdout",
     "output_type": "stream",
     "text": [
      "rectangle3==rectangle4 = False\n",
      "rectangle5==rectangle4 = True\n"
     ]
    }
   ],
   "source": [
    "print(f\"{rectangle3==rectangle4 = }\")\n",
    "print(f\"{rectangle5==rectangle4 = }\")"
   ]
  },
  {
   "cell_type": "code",
   "execution_count": 43,
   "id": "d0b23ea2",
   "metadata": {},
   "outputs": [
    {
     "name": "stdout",
     "output_type": "stream",
     "text": [
      "rectangle3>rectangle4 = True\n",
      "rectangle3<rectangle4 = False\n",
      "rectangle3>=rectangle4 = True\n",
      "rectangle5<=rectangle4 = True\n"
     ]
    }
   ],
   "source": [
    "print(f\"{rectangle3>rectangle4 = }\")\n",
    "print(f\"{rectangle3<rectangle4 = }\")\n",
    "\n",
    "print(f\"{rectangle3>=rectangle4 = }\")\n",
    "print(f\"{rectangle5<=rectangle4 = }\")"
   ]
  },
  {
   "cell_type": "markdown",
   "id": "562abccf",
   "metadata": {},
   "source": [
    "### Circles"
   ]
  },
  {
   "cell_type": "code",
   "execution_count": 40,
   "id": "d26ec729",
   "metadata": {},
   "outputs": [],
   "source": [
    "circle4 = Circle(1,1,3)\n",
    "circle5 = Circle(0,0,2)\n",
    "circle6 = Circle(2,4,2)"
   ]
  },
  {
   "cell_type": "code",
   "execution_count": 41,
   "id": "8d8bb7b4",
   "metadata": {},
   "outputs": [
    {
     "name": "stdout",
     "output_type": "stream",
     "text": [
      "circle4==circle5 = False\n",
      "circle4>=circle5 = True\n"
     ]
    }
   ],
   "source": [
    "print(f\"{circle4==circle5 = }\")\n",
    "print(f\"{circle4>=circle5 = }\")"
   ]
  },
  {
   "cell_type": "code",
   "execution_count": 42,
   "id": "bbb807dd",
   "metadata": {},
   "outputs": [
    {
     "name": "stdout",
     "output_type": "stream",
     "text": [
      "circle4>circle5 = True\n",
      "circle4<circle5 = False\n",
      "circle6>=circle5 = True\n"
     ]
    }
   ],
   "source": [
    "print(f\"{circle4>circle5 = }\")\n",
    "print(f\"{circle4<circle5 = }\")\n",
    "\n",
    "print(f\"{circle6>=circle5 = }\")"
   ]
  }
 ],
 "metadata": {
  "kernelspec": {
   "display_name": "Lab2_Anja_Scherwall",
   "language": "python",
   "name": "python3"
  },
  "language_info": {
   "codemirror_mode": {
    "name": "ipython",
    "version": 3
   },
   "file_extension": ".py",
   "mimetype": "text/x-python",
   "name": "python",
   "nbconvert_exporter": "python",
   "pygments_lexer": "ipython3",
   "version": "3.12.10"
  }
 },
 "nbformat": 4,
 "nbformat_minor": 5
}
